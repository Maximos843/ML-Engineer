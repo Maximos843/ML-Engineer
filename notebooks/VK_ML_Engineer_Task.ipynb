{
  "cells": [
    {
      "cell_type": "code",
      "execution_count": null,
      "metadata": {
        "id": "OkfWlLi8ZZUT"
      },
      "outputs": [],
      "source": [
        "from google.colab import drive\n",
        "drive.mount('/content/drive/')"
      ]
    },
    {
      "cell_type": "code",
      "execution_count": null,
      "metadata": {
        "id": "L_kvemKclN7r"
      },
      "outputs": [],
      "source": [
        "!pip install catboost"
      ]
    },
    {
      "cell_type": "code",
      "execution_count": null,
      "metadata": {
        "id": "eBRTwzCak_yL"
      },
      "outputs": [],
      "source": [
        "import numpy as np\n",
        "import pandas as pd\n",
        "from sklearn.metrics import ndcg_score\n",
        "from random import randint\n",
        "from catboost import CatBoostClassifier, CatBoostRanker\n",
        "from catboost import Pool\n",
        "from catboost import CatBoost, Pool\n",
        "from sklearn.preprocessing import StandardScaler"
      ]
    },
    {
      "cell_type": "code",
      "execution_count": null,
      "metadata": {
        "id": "Vg2iSkAjuFmo"
      },
      "outputs": [],
      "source": [
        "from google.colab import output\n",
        "output.enable_custom_widget_manager()"
      ]
    },
    {
      "cell_type": "code",
      "execution_count": null,
      "metadata": {
        "id": "J8wMZpvOZuV8"
      },
      "outputs": [],
      "source": [
        "import pandas as pd\n",
        "\n",
        "\n",
        "train = pd.read_csv('/content/drive/MyDrive/vk_train_df.csv')\n",
        "test = pd.read_csv('/content/drive/MyDrive/vk_test_df.csv')\n",
        "train.head()"
      ]
    },
    {
      "cell_type": "markdown",
      "metadata": {
        "id": "5is3gIx67AsN"
      },
      "source": [
        "# EDA"
      ]
    },
    {
      "cell_type": "code",
      "execution_count": null,
      "metadata": {
        "id": "uhk4_TZ9ltNg"
      },
      "outputs": [],
      "source": [
        "train.drop_duplicates(inplace=True)"
      ]
    },
    {
      "cell_type": "code",
      "execution_count": null,
      "metadata": {
        "id": "_uoYQZb-l7ew"
      },
      "outputs": [],
      "source": [
        "unary_columns = [col for col in list(test) if test[col].nunique(dropna=False) <= 1]\n",
        "train.drop(columns=unary_columns, inplace=True)\n",
        "test.drop(columns=unary_columns, inplace=True)"
      ]
    },
    {
      "cell_type": "code",
      "execution_count": null,
      "metadata": {
        "id": "5QJzv5vxEFO-"
      },
      "outputs": [],
      "source": [
        "corr_matrix = train.corr().abs()\n",
        "upper = corr_matrix.where(np.triu(np.ones(corr_matrix.shape), k=1).astype(bool))\n",
        "high_correlation = [column for column in upper.columns if any(upper[column] > 0.8)]\n",
        "\n",
        "train.drop(columns=high_correlation, inplace=True)\n",
        "test.drop(columns=high_correlation, inplace=True)"
      ]
    },
    {
      "cell_type": "code",
      "execution_count": null,
      "metadata": {
        "id": "NWiFbwpAnzTl"
      },
      "outputs": [],
      "source": [
        "leaky_features = ['feature_1', 'feature_2', 'feature_7', 'feature_8',\n",
        "                         'feature_9', 'feature_13', 'feature_14', 'feature_17',\n",
        "                         'feature_23', 'feature_47', 'feature_61', 'feature_62']\n",
        "train.drop(columns=leaky_features, inplace=True)\n",
        "test.drop(columns=leaky_features, inplace=True)"
      ]
    },
    {
      "cell_type": "code",
      "execution_count": null,
      "metadata": {
        "id": "sk8tEr7UUNDt"
      },
      "outputs": [],
      "source": [
        "cols = train.columns\n",
        "inds = [i for i in range(1, len(cols) - 1) if cols[i] not in cat_features]\n",
        "\n",
        "scaler = StandardScaler()\n",
        "train = train.values\n",
        "test = test.values\n",
        "train[:, inds] = scaler.fit_transform(train[:, inds])\n",
        "test[:, inds] = scaler.transform(test[:, inds])\n",
        "train = pd.DataFrame(train, columns=cols)\n",
        "test = pd.DataFrame(test, columns=cols)\n",
        "\n",
        "cat_features = [i for i in train if len(train[i].unique()) <= 10][:-1]\n",
        "for i in cat_features + ['search_id', 'target']:\n",
        "    train[i] = train[i].astype(int)\n",
        "    test[i] = test[i].astype(int)"
      ]
    },
    {
      "cell_type": "markdown",
      "metadata": {
        "id": "5h3EnE3flnTJ"
      },
      "source": [
        "# CatBoost"
      ]
    },
    {
      "cell_type": "code",
      "execution_count": null,
      "metadata": {
        "id": "EPN8S2_lB4Wq"
      },
      "outputs": [],
      "source": [
        "cutoff_id = train['search_id'].quantile(0.9) # 90/10 split\n",
        "X_train = train.loc[train.search_id < cutoff_id].drop([\"target\"],axis=1)\n",
        "X_eval = train.loc[train.search_id >= cutoff_id].drop([\"target\"],axis=1)\n",
        "y_train = train.loc[train.search_id < cutoff_id][\"target\"]\n",
        "y_eval = train.loc[train.search_id >= cutoff_id][\"target\"]"
      ]
    },
    {
      "cell_type": "code",
      "execution_count": null,
      "metadata": {
        "id": "uDpwkvBHV5tG"
      },
      "outputs": [],
      "source": [
        "train_weights = [0.75 if i == 1 else 0.25 for i in y_train]\n",
        "eval_weights = [0.75 if i == 1 else 0.25 for i in y_eval]"
      ]
    },
    {
      "cell_type": "code",
      "execution_count": null,
      "metadata": {
        "id": "nSP7ql3PnmYu"
      },
      "outputs": [],
      "source": [
        "train_pool = Pool(data=X_train,\n",
        "                  label = y_train,\n",
        "                  cat_features = cat_features,\n",
        "                  group_id=X_train['search_id'],\n",
        "                  weight=train_weights\n",
        "                 )\n",
        "\n",
        "eval_pool = Pool(data=X_eval,\n",
        "                  label = y_eval,\n",
        "                cat_features = cat_features,\n",
        "                  group_id=X_eval['search_id'],\n",
        "                 weight=eval_weights\n",
        "                 )"
      ]
    },
    {
      "cell_type": "code",
      "execution_count": null,
      "metadata": {
        "id": "oS5UpcZj02xY"
      },
      "outputs": [],
      "source": [
        "parameters = {\n",
        "    'iterations': 1000,\n",
        "    'custom_metric': ['NDCG'],\n",
        "    'verbose':True,\n",
        "    'depth': 4, #4\n",
        "    'l2_leaf_reg': 6, #3\n",
        "    'random_seed': 0,\n",
        "}"
      ]
    },
    {
      "cell_type": "code",
      "execution_count": null,
      "metadata": {
        "id": "9PoYQqS308gy"
      },
      "outputs": [],
      "source": [
        "def fit_model(loss_function, train_pool=train_pool, test_pool=eval_pool):\n",
        "    parameters['loss_function'] = loss_function\n",
        "    parameters['train_dir'] = loss_function\n",
        "    model = CatBoostRanker(**parameters)\n",
        "    model.fit(train_pool, verbose=1, eval_set=test_pool)#, use_best_model=True)\n",
        "    return model\n",
        "\n",
        "\n",
        "model = fit_model('RMSE')"
      ]
    },
    {
      "cell_type": "code",
      "execution_count": null,
      "metadata": {
        "id": "lYk4o1G-vCyA"
      },
      "outputs": [],
      "source": [
        "preds = model.predict(test.drop(columns=['target']))\n",
        "ndcg_score(np.array([test['target'].values]), np.array([preds]))"
      ]
    },
    {
      "cell_type": "markdown",
      "metadata": {
        "id": "1s8APd3-niB2"
      },
      "source": [
        "BEST SCORE - 0.6445960968089074"
      ]
    },
    {
      "cell_type": "code",
      "execution_count": null,
      "metadata": {
        "id": "ajemJPsc_KkY"
      },
      "outputs": [],
      "source": [
        "'''\n",
        "0.6445960968089074\n",
        "scaler\n",
        "drop high_corr\n",
        "cat_features <= 10 unique\n",
        "drop leaky_features1\n",
        "weights\n",
        "'''"
      ]
    },
    {
      "cell_type": "code",
      "execution_count": null,
      "metadata": {
        "id": "kNft8IlwwVMe"
      },
      "outputs": [],
      "source": [
        "df = model.get_feature_importance(data=train_pool, prettified=True)\n",
        "leaky_features = df[df.Importances < 0.001]['Feature Id']\n",
        "leaky_features"
      ]
    },
    {
      "cell_type": "code",
      "execution_count": null,
      "metadata": {
        "id": "PG5duycUF6mg"
      },
      "outputs": [],
      "source": [
        "model = CatBoostRanker(**parameters)\n",
        "grid = {'learning_rate': [0.03, 0.01, 0.05],\n",
        "        'depth': [4, 6, 8],\n",
        "        'l2_leaf_reg': [1, 3, 5]}\n",
        "\n",
        "grid_search_result = model.grid_search(grid,\n",
        "                                       train_pool,\n",
        "                                       shuffle=False,\n",
        "                                       cv=3,\n",
        "                                       plot=True)\n",
        "grid_search_result['params']"
      ]
    },
    {
      "cell_type": "code",
      "execution_count": null,
      "metadata": {
        "id": "a92O3mgNOzJa"
      },
      "outputs": [],
      "source": [
        "'''0.629 - CatBoostRanker,\n",
        "'iterations': 1000,\n",
        "'depth': 4,\n",
        "'l2_leaf_reg':1.5,\n",
        "'random_seed': 0,\n",
        "with cats_features - unique <= 10\n",
        "don't drop leaky_features\n",
        "'''"
      ]
    },
    {
      "cell_type": "code",
      "execution_count": null,
      "metadata": {
        "id": "4f_b8gqfdep9"
      },
      "outputs": [],
      "source": []
    }
  ],
  "metadata": {
    "colab": {
      "private_outputs": true,
      "provenance": []
    },
    "kernelspec": {
      "display_name": "Python 3",
      "name": "python3"
    },
    "language_info": {
      "name": "python"
    }
  },
  "nbformat": 4,
  "nbformat_minor": 0
}
